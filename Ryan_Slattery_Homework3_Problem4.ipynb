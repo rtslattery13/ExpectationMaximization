{
 "cells": [
  {
   "cell_type": "raw",
   "metadata": {},
   "source": [
    "Ryan Slattery\n",
    "CS 559 - Machine Learning Fundamentals and Applications\n",
    "Homework #3: Problem #4\n",
    "Started: October 17, 2021\n",
    "Last Modified: November 6, 2021\n",
    "\n",
    "Sources Used For This Project:\n",
    "https://scikit-learn.org/stable/modules/generated/sklearn.neighbors.KNeighborsClassifier.html\n",
    "https://scikit-learn.org/stable/modules/generated/sklearn.metrics.f1_score.html\n",
    "http://www.data-machine.net/nmtutorial/distanceweightedknnalgorithm.htm"
   ]
  },
  {
   "cell_type": "code",
   "execution_count": 1,
   "metadata": {},
   "outputs": [],
   "source": [
    "# OUR LIBRARIES:\n",
    "import pandas as pd\n",
    "import numpy as np\n",
    "import sklearn\n",
    "from sklearn.metrics import confusion_matrix, accuracy_score, f1_score, precision_score, recall_score\n",
    "from sklearn.neighbors import KNeighborsClassifier"
   ]
  },
  {
   "cell_type": "code",
   "execution_count": 2,
   "metadata": {},
   "outputs": [],
   "source": [
    "# OUR DATA:\n",
    "# Reading our Test and Training Sets from their respective CSV files\n",
    "test_set = pd.read_csv('test.csv')\n",
    "train_set = pd.read_csv('train.csv')\n",
    "\n",
    "# Separating our Attribute and Class Values for our Test Sets\n",
    "test_x = test_set.drop('actual-class', axis = 1)\n",
    "test_y = test_set['actual-class']\n",
    "\n",
    "# Had to drop the ID column due to issues with the KNN method\n",
    "test_x = test_x.drop('ID', axis = 1)\n",
    "\n",
    "# Separating our Attribute and Class Values for our Training Sets\n",
    "train_x = train_set.drop('class', axis = 1)\n",
    "train_y = train_set['class']\n",
    "\n",
    "# Converting our dataframes to a numpy arrays\n",
    "test_x = np.array(test_x)\n",
    "test_y = np.array(test_y)\n",
    "train_x = np.array(train_x)\n",
    "train_y = np.array(train_y)"
   ]
  },
  {
   "cell_type": "code",
   "execution_count": 3,
   "metadata": {},
   "outputs": [
    {
     "name": "stdout",
     "output_type": "stream",
     "text": [
      "[1 0 0 1 0 1 0 0 0 0 1 0 0 0 1 1 1 0 0 0]\n",
      "[1 0 0 1 0 1 0 0 0 0 1 0 0 0 0 1 1 0 0 0]\n"
     ]
    }
   ],
   "source": [
    "# K-NEAREST NEIGHBORS PROBLEM #1: 3-NEAREST NEIGHBORS:\n",
    "# Initializing our KNN Object. For Problem #1, we will use 3-Nearest Neighbors.\n",
    "knn = KNeighborsClassifier(n_neighbors = 3)\n",
    "knn.fit(train_x, train_y)\n",
    "predictions = knn.predict(test_x)\n",
    "\n",
    "# Printing a visual of what our predicted values and test values are.\n",
    "print(predictions)\n",
    "print(test_y)"
   ]
  },
  {
   "cell_type": "code",
   "execution_count": 4,
   "metadata": {},
   "outputs": [
    {
     "name": "stdout",
     "output_type": "stream",
     "text": [
      "Probability Estimates: \n",
      " [[0.         1.        ]\n",
      " [0.66666667 0.33333333]\n",
      " [1.         0.        ]\n",
      " [0.         1.        ]\n",
      " [1.         0.        ]\n",
      " [0.         1.        ]\n",
      " [1.         0.        ]\n",
      " [1.         0.        ]\n",
      " [1.         0.        ]\n",
      " [1.         0.        ]\n",
      " [0.         1.        ]\n",
      " [1.         0.        ]\n",
      " [1.         0.        ]\n",
      " [1.         0.        ]\n",
      " [0.33333333 0.66666667]\n",
      " [0.         1.        ]\n",
      " [0.         1.        ]\n",
      " [1.         0.        ]\n",
      " [1.         0.        ]\n",
      " [1.         0.        ]] \n",
      "\n",
      "Confusion Matrix: \n",
      " [[13  0]\n",
      " [ 1  6]] \n",
      "\n",
      "Accuracy Score for Problem #1: 0.95\n",
      "Precision Score for Problem #1: 1.0\n",
      "Recall Score for Problem #1: 0.8571428571428571\n",
      "F_Measure for Problem #1: 0.923076923076923\n"
     ]
    }
   ],
   "source": [
    "# METRICS FOR PROBLEM #1:\n",
    "print(\"Probability Estimates:\", '\\n', (knn.predict_proba(test_x)), '\\n')\n",
    "print(\"Confusion Matrix:\", '\\n', confusion_matrix(predictions, test_y), '\\n')\n",
    "print(\"Accuracy Score for Problem #1:\", accuracy_score(predictions, test_y))\n",
    "print(\"Precision Score for Problem #1:\", precision_score(predictions, test_y))\n",
    "print(\"Recall Score for Problem #1:\", recall_score(predictions, test_y))\n",
    "print(\"F_Measure for Problem #1:\", f1_score(predictions, test_y))"
   ]
  },
  {
   "cell_type": "code",
   "execution_count": 5,
   "metadata": {},
   "outputs": [
    {
     "name": "stdout",
     "output_type": "stream",
     "text": [
      "[1 0 0 1 0 1 0 0 0 0 1 0 0 0 1 1 1 0 0 0]\n",
      "[1 0 0 1 0 1 0 0 0 0 1 0 0 0 0 1 1 0 0 0]\n"
     ]
    }
   ],
   "source": [
    "# K-NEAREST NEIGHBORS PROBLEM #2: EUCLIDEAN DISTANCE 3-NEAREST NEIGHBORS:\n",
    "# Creating our weight function (1/d^2), since our weighted KNN accepts a user-defined function as a weight, so long as the function accepts an array\n",
    "# 1. Compute the Euclidean Distance for Each Input\n",
    "#    a. Square each component input in our array\n",
    "#    b. Add each of the squared component inputs\n",
    "#    c. Take the Square Root of the Sum (We can exclude this step since will be squaring the distance anyway)\n",
    "# 2. Divide 1 by the value calculated in step #1, giving us (1/d^2)\n",
    "# 3. Multiply each input value by our weight, and return the array once the loop is finished\n",
    "def weighted_distances(arr):\n",
    "    length, width = arr.shape\n",
    "    temp = 0\n",
    "    for i in range(length):\n",
    "        temp = np.square(arr[i])\n",
    "        temp = np.sum(temp)\n",
    "        temp = 1/temp\n",
    "        arr[i] = temp*arr[i]\n",
    "    \n",
    "    return arr\n",
    "    \n",
    "# Initializing our KNN Object. For Problem #2, we use 3-Nearest Neighbors with Euclidean Distance Weighted 1/d^2\n",
    "euclid_knn = KNeighborsClassifier(n_neighbors = 3, weights = weighted_distances, metric = \"euclidean\")\n",
    "euclid_knn.fit(train_x, train_y)\n",
    "euclid_predictions = euclid_knn.predict(test_x)\n",
    "\n",
    "\n",
    "print(euclid_predictions)\n",
    "print(test_y)"
   ]
  },
  {
   "cell_type": "code",
   "execution_count": 6,
   "metadata": {},
   "outputs": [
    {
     "name": "stdout",
     "output_type": "stream",
     "text": [
      "Probability Estimates: \n",
      " [[0.         1.        ]\n",
      " [0.66165411 0.33834589]\n",
      " [1.         0.        ]\n",
      " [0.         1.        ]\n",
      " [1.         0.        ]\n",
      " [0.         1.        ]\n",
      " [1.         0.        ]\n",
      " [1.         0.        ]\n",
      " [1.         0.        ]\n",
      " [1.         0.        ]\n",
      " [0.         1.        ]\n",
      " [1.         0.        ]\n",
      " [1.         0.        ]\n",
      " [1.         0.        ]\n",
      " [0.3229923  0.6770077 ]\n",
      " [0.         1.        ]\n",
      " [0.         1.        ]\n",
      " [1.         0.        ]\n",
      " [1.         0.        ]\n",
      " [1.         0.        ]] \n",
      "\n",
      "Confusion Matrix: \n",
      " [[13  0]\n",
      " [ 1  6]] \n",
      "\n",
      "Accuracy Score for Problem #1: 0.95\n",
      "Precision Score for Problem #1: 1.0\n",
      "Recall Score for Problem #1: 0.8571428571428571\n",
      "F_Measure for Problem #1: 0.923076923076923\n"
     ]
    }
   ],
   "source": [
    "# METRICS FOR PROBLEM #2:\n",
    "print(\"Probability Estimates:\", '\\n', (euclid_knn.predict_proba(test_x)), '\\n')\n",
    "print(\"Confusion Matrix:\", '\\n', confusion_matrix(euclid_predictions, test_y), '\\n')\n",
    "print(\"Accuracy Score for Problem #1:\", accuracy_score(euclid_predictions, test_y))\n",
    "print(\"Precision Score for Problem #1:\", precision_score(euclid_predictions, test_y))\n",
    "print(\"Recall Score for Problem #1:\", recall_score(euclid_predictions, test_y))\n",
    "print(\"F_Measure for Problem #1:\", f1_score(euclid_predictions, test_y))"
   ]
  },
  {
   "cell_type": "raw",
   "metadata": {},
   "source": [
    "The Predicted Labels for Problem #2 are pretty much the same to the ones in Problem #1. There is only a VERY slight fraction of a difference in some of the Probability Estimates.\n",
    "\n",
    "Our metrics computed in both Problems #1 and #2 are the same, meaning that the models have the same performance scores."
   ]
  },
  {
   "cell_type": "code",
   "execution_count": null,
   "metadata": {},
   "outputs": [],
   "source": []
  }
 ],
 "metadata": {
  "kernelspec": {
   "display_name": "Python 3",
   "language": "python",
   "name": "python3"
  },
  "language_info": {
   "codemirror_mode": {
    "name": "ipython",
    "version": 3
   },
   "file_extension": ".py",
   "mimetype": "text/x-python",
   "name": "python",
   "nbconvert_exporter": "python",
   "pygments_lexer": "ipython3",
   "version": "3.7.6"
  }
 },
 "nbformat": 4,
 "nbformat_minor": 4
}
